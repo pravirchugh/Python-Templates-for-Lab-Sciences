{
 "cells": [
  {
   "attachments": {},
   "cell_type": "markdown",
   "metadata": {},
   "source": [
    "This is a template for your lab report. You can just write your responses in place of the guidelines below. To add another cell, press the + button. To delete a cell, you can simply cut it. Other functions are in similar places."
   ]
  },
  {
   "attachments": {},
   "cell_type": "markdown",
   "metadata": {},
   "source": [
    "Insert your title, name, lab parter and other introductory information below."
   ]
  },
  {
   "attachments": {},
   "cell_type": "markdown",
   "metadata": {},
   "source": [
    "# \"Title\""
   ]
  },
  {
   "attachments": {},
   "cell_type": "markdown",
   "metadata": {},
   "source": [
    "### \"Name\""
   ]
  },
  {
   "attachments": {},
   "cell_type": "markdown",
   "metadata": {},
   "source": [
    "### \"Lab Partners\""
   ]
  },
  {
   "attachments": {},
   "cell_type": "markdown",
   "metadata": {},
   "source": [
    "### \"Date\""
   ]
  },
  {
   "attachments": {},
   "cell_type": "markdown",
   "metadata": {},
   "source": [
    "### \"Other Information\""
   ]
  },
  {
   "attachments": {},
   "cell_type": "markdown",
   "metadata": {},
   "source": [
    "### \"Other Information\""
   ]
  },
  {
   "attachments": {},
   "cell_type": "markdown",
   "metadata": {},
   "source": [
    "###  \"Other Information\""
   ]
  },
  {
   "attachments": {},
   "cell_type": "markdown",
   "metadata": {},
   "source": [
    "(delete the lines that you don't need, or copy and paste to add lines)"
   ]
  },
  {
   "attachments": {},
   "cell_type": "markdown",
   "metadata": {},
   "source": [
    "## Purpose"
   ]
  },
  {
   "attachments": {},
   "cell_type": "markdown",
   "metadata": {},
   "source": [
    "Purpose: Replace this sentence with your purpose."
   ]
  },
  {
   "attachments": {},
   "cell_type": "markdown",
   "metadata": {},
   "source": [
    "## Background"
   ]
  },
  {
   "attachments": {},
   "cell_type": "markdown",
   "metadata": {},
   "source": [
    "Write a background of your experiment."
   ]
  },
  {
   "attachments": {},
   "cell_type": "markdown",
   "metadata": {},
   "source": [
    "## Pre-Lab Questions"
   ]
  },
  {
   "attachments": {},
   "cell_type": "markdown",
   "metadata": {},
   "source": [
    "Pre-Lab Questions: Answer your Pre-Lab Questions (if any) below. Use any format that you see fit."
   ]
  },
  {
   "attachments": {},
   "cell_type": "markdown",
   "metadata": {},
   "source": [
    "## Materials"
   ]
  },
  {
   "attachments": {},
   "cell_type": "markdown",
   "metadata": {},
   "source": [
    "Materials: What materials did you use in this experiment?\n",
    "\n"
   ]
  },
  {
   "attachments": {},
   "cell_type": "markdown",
   "metadata": {},
   "source": [
    "## Procedure"
   ]
  },
  {
   "attachments": {},
   "cell_type": "markdown",
   "metadata": {},
   "source": [
    "Procedure: Write your procedure, including specific values here."
   ]
  },
  {
   "attachments": {},
   "cell_type": "markdown",
   "metadata": {},
   "source": [
    "## Calibration Curve (Data + Graph)"
   ]
  },
  {
   "attachments": {},
   "cell_type": "markdown",
   "metadata": {},
   "source": [
    "It is imperative that we can save the calibration curve as a function. This will make it easier to use for later calculations, if present in the laboratory experiment."
   ]
  },
  {
   "cell_type": "code",
   "execution_count": null,
   "metadata": {},
   "outputs": [],
   "source": [
    "import pandas as pd\n",
    "import os\n",
    "import matplotlib.pyplot as plt\n",
    "import numpy as np\n",
    "calibration = pd.read_csv(r\"REPLACE THIS WITH THE FILE PATH WITH THE CALIBRATION DATA\")\n",
    "pd.DataFrame(calibration, columns = [\"CALIBRATION COLUMN HEADING 1\", \"CALIBRATION COLUMN HEADING 2\"])\n",
    "#This is initializing and showing the calibration data in a tabular format"
   ]
  },
  {
   "cell_type": "code",
   "execution_count": null,
   "metadata": {},
   "outputs": [],
   "source": [
    "#establishing the x and y axes\n",
    "xaxis = calibration['INSERT THE TITLE OF THE X DATA SET']\n",
    "yaxis = calibration['INSERT THE TITLE OF THE Y DATA SET']"
   ]
  },
  {
   "cell_type": "code",
   "execution_count": null,
   "metadata": {},
   "outputs": [],
   "source": [
    "#This is where you are going to plot the data, don't need to change anything here.\n",
    "plt.plot(xaxis,yaxis,'o')\n",
    "\n",
    "# calc the trendline\n",
    "first = np.polyfit(xaxis, yaxis, 1)\n",
    "second = np.poly1d(first)\n",
    "plt.plot(xaxis,second(xaxis),\"r--\")\n",
    "# the line equation:\n",
    "print(\"y=(%.6fx) + (%.6f)\"%(first[0],first[1]))#This needs to be manipulated to display a second degree polynomial.\n",
    "slope = first[0]\n",
    "yintercept = first[1]\n",
    "#May be used later"
   ]
  },
  {
   "cell_type": "code",
   "execution_count": null,
   "metadata": {},
   "outputs": [],
   "source": [
    "#Calculating the R^2 Value FOR THE CALIBRATION CURVE below, you have nothing to change here, simply run this cell:\n",
    "\n",
    "dataset = {}\n",
    "\n",
    "coeff = np.polyfit(xaxis, yaxis, 1)\n",
    " # Polynomial Coefficients\n",
    "dataset['polynomial'] = coeff.tolist()\n",
    "\n",
    "rval = np.corrcoef(xaxis, yaxis)[0,1]\n",
    "\n",
    " # r\n",
    "dataset['correlation'] = rval\n",
    " # r-squared\n",
    "dataset['determination'] = rval**2\n",
    "print(\"R^2 value below\")\n",
    "print(dataset['determination'])"
   ]
  },
  {
   "attachments": {},
   "cell_type": "markdown",
   "metadata": {},
   "source": [
    "## Data Table"
   ]
  },
  {
   "attachments": {},
   "cell_type": "markdown",
   "metadata": {},
   "source": [
    "Data Table: If your data is in a CSV File, follow the steps below."
   ]
  },
  {
   "cell_type": "code",
   "execution_count": null,
   "metadata": {},
   "outputs": [],
   "source": [
    "data = pd.read_csv(r\"REPLACE THIS WITH YOUR FILE PATH FOR THE DATA TABLE\")"
   ]
  },
  {
   "cell_type": "code",
   "execution_count": null,
   "metadata": {},
   "outputs": [],
   "source": [
    "#Displaying the data using a Pandas Data Frame\n",
    "pd.DataFrame(data, columns=[\"COLUMN HEADING 1\", \"COLUMN HEADING 2\"])#add more columns as necessary"
   ]
  },
  {
   "attachments": {},
   "cell_type": "markdown",
   "metadata": {},
   "source": [
    "## Graphs"
   ]
  },
  {
   "cell_type": "code",
   "execution_count": null,
   "metadata": {},
   "outputs": [],
   "source": [
    "#This is where we will graph the data from the data table.\n",
    "x = data['INSERT X HEADING HERE']\n",
    "y = data['INSERT Y HEADING HERE']"
   ]
  },
  {
   "cell_type": "code",
   "execution_count": null,
   "metadata": {},
   "outputs": [],
   "source": [
    "#This is where you are going to plot the data, don't need to change anything here.\n",
    "plt.plot(x,y,'o')\n",
    "\n",
    "# calc the trendline\n",
    "first1 = np.polyfit(x, y, 1)\n",
    "second1 = np.poly1d(first1)\n",
    "plt.plot(x,second1(x),\"r--\")\n",
    "# the line equation:\n",
    "print(\"y=(%.6fx) + (%.6f)\"%(first1[0],first1[1]))#However, this may need to be manipulated to display a second degree polynomial."
   ]
  },
  {
   "cell_type": "code",
   "execution_count": null,
   "metadata": {},
   "outputs": [],
   "source": [
    "#This is where we calculate the R^2 value for the data (assuming linear fit)\n",
    "\n",
    "\n",
    "set1 = {}\n",
    "\n",
    "coeff1 = np.polyfit(x, y, 1)\n",
    " # Polynomial Coefficients -> helps get r^2\n",
    "set1['polynomial'] = coeff1.tolist()\n",
    "\n",
    "rval1 = np.corrcoef(x, y)[0,1]\n",
    "\n",
    " # r\n",
    "set1['correlation'] = rval1\n",
    " # r-squared\n",
    "set1['determination'] = rval1**2\n",
    "print(\"R^2 value below\")\n",
    "print(set1['determination'])"
   ]
  },
  {
   "attachments": {},
   "cell_type": "markdown",
   "metadata": {},
   "source": [
    "## Discussion"
   ]
  },
  {
   "attachments": {},
   "cell_type": "markdown",
   "metadata": {},
   "source": [
    "Write a discussion of your experiment."
   ]
  },
  {
   "attachments": {},
   "cell_type": "markdown",
   "metadata": {},
   "source": [
    "## Error Analysis"
   ]
  },
  {
   "attachments": {},
   "cell_type": "markdown",
   "metadata": {},
   "source": [
    "Analyze potential sources of error in your experiment. "
   ]
  },
  {
   "attachments": {},
   "cell_type": "markdown",
   "metadata": {},
   "source": [
    "## Conclusion"
   ]
  },
  {
   "attachments": {},
   "cell_type": "markdown",
   "metadata": {},
   "source": [
    "Write the conclusion."
   ]
  },
  {
   "attachments": {},
   "cell_type": "markdown",
   "metadata": {},
   "source": [
    "Write final notes here."
   ]
  }
 ],
 "metadata": {
  "kernelspec": {
   "display_name": "base",
   "language": "python",
   "name": "python3"
  },
  "language_info": {
   "codemirror_mode": {
    "name": "ipython",
    "version": 3
   },
   "file_extension": ".py",
   "mimetype": "text/x-python",
   "name": "python",
   "nbconvert_exporter": "python",
   "pygments_lexer": "ipython3",
   "version": "3.8.8"
  },
  "orig_nbformat": 4,
  "vscode": {
   "interpreter": {
    "hash": "99efdacb3d948a2b1e5924b50af4c455282445c419234024e1ef4505ea1d97e5"
   }
  }
 },
 "nbformat": 4,
 "nbformat_minor": 2
}
